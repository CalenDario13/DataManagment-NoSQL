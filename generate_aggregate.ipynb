{
 "cells": [
  {
   "cell_type": "code",
   "execution_count": 1,
   "metadata": {},
   "outputs": [],
   "source": [
    "import pandas as pd\n",
    "import numpy as np\n",
    "import json\n",
    "import ctypes\n",
    "import hashlib\n",
    "from datetime import datetime\n",
    "from bson import json_util\n",
    "\n",
    "PATH = '/Users/Dario/Google Drive/DS/First Year - Secon Semester/DM/homeworks/hw_1_&_2/data/'"
   ]
  },
  {
   "cell_type": "code",
   "execution_count": 2,
   "metadata": {},
   "outputs": [],
   "source": [
    "customers = pd.read_csv(PATH + 'olist_customers_dataset.csv')\n",
    "items = pd.read_csv(PATH + 'olist_order_items_dataset.csv')\n",
    "payments = pd.read_csv(PATH + 'olist_order_payments_dataset.csv')\n",
    "reviews = pd.read_csv(PATH + 'olist_order_reviews_dataset.csv')\n",
    "orders = pd.read_csv(PATH + 'olist_orders_dataset.csv')\n",
    "products = pd.read_csv(PATH + 'olist_products_dataset.csv')\n",
    "sellers = pd.read_csv(PATH + 'olist_sellers_dataset.csv')"
   ]
  },
  {
   "cell_type": "code",
   "execution_count": 3,
   "metadata": {},
   "outputs": [],
   "source": [
    "# Convert dates:"
   ]
  },
  {
   "cell_type": "code",
   "execution_count": 4,
   "metadata": {},
   "outputs": [],
   "source": [
    "cols = ['order_purchase_timestamp', 'order_approved_at', 'order_delivered_carrier_date', 'order_delivered_customer_date', \n",
    "        'order_estimated_delivery_date']\n",
    "\n",
    "for col in cols:\n",
    "    orders[col]=orders[col].apply(lambda x: json.dumps(datetime.strptime(x, '%Y-%m-%d %H:%M:%S'), default = json_util.default)[10:-1] if type(x) != float else np.NaN)\n",
    "\n",
    "items['shipping_limit_date'] = items['shipping_limit_date'].apply(lambda x: json.dumps(datetime.strptime(x, '%Y-%m-%d %H:%M:%S'), default = json_util.default)[10:-1] if type(x) != float else np.NaN)\n",
    "\n",
    "cols = ['review_creation_date','review_answer_timestamp']\n",
    "for col in cols:\n",
    "    reviews[col]=reviews[col].apply(lambda x: json.dumps(datetime.strptime(x, '%Y-%m-%d %H:%M:%S'), default = json_util.default)[10:-1] if type(x) != float else np.NaN)"
   ]
  },
  {
   "cell_type": "markdown",
   "metadata": {},
   "source": [
    "# Work on Customers Aggregate"
   ]
  },
  {
   "cell_type": "code",
   "execution_count": 5,
   "metadata": {},
   "outputs": [],
   "source": [
    "# Merge customer and orders:"
   ]
  },
  {
   "cell_type": "code",
   "execution_count": 6,
   "metadata": {},
   "outputs": [],
   "source": [
    "co = customers.merge(orders, on = 'customer_id')"
   ]
  },
  {
   "cell_type": "code",
   "execution_count": 7,
   "metadata": {},
   "outputs": [
    {
     "data": {
      "text/plain": [
       "99441"
      ]
     },
     "execution_count": 7,
     "metadata": {},
     "output_type": "execute_result"
    }
   ],
   "source": [
    "len(co)"
   ]
  },
  {
   "cell_type": "code",
   "execution_count": 8,
   "metadata": {},
   "outputs": [],
   "source": [
    "# Generate unique id for address:"
   ]
  },
  {
   "cell_type": "code",
   "execution_count": 9,
   "metadata": {},
   "outputs": [],
   "source": [
    "def hashFor(data):\n",
    "    # Prepare the project id hash\n",
    "    hashId = hashlib.md5()\n",
    "\n",
    "    hashId.update(repr(data).encode('utf-8'))\n",
    "\n",
    "    return hashId.hexdigest()"
   ]
  },
  {
   "cell_type": "code",
   "execution_count": 10,
   "metadata": {},
   "outputs": [],
   "source": [
    "cols = ['customer_unique_id', 'customer_zip_code_prefix', 'customer_city', 'customer_state']\n",
    "co['address_id'] = co[cols].apply(lambda x: hashFor(list(x)), axis = 1)"
   ]
  },
  {
   "cell_type": "code",
   "execution_count": 11,
   "metadata": {},
   "outputs": [],
   "source": [
    "# get the column address:"
   ]
  },
  {
   "cell_type": "code",
   "execution_count": 12,
   "metadata": {},
   "outputs": [],
   "source": [
    "cols = ['address_id', 'customer_zip_code_prefix', 'customer_city', 'customer_state']\n",
    "co['address'] = co[cols].apply(lambda x: {k:v for k,v in list(zip(cols, x))}, axis = 1)"
   ]
  },
  {
   "cell_type": "code",
   "execution_count": 13,
   "metadata": {},
   "outputs": [],
   "source": [
    "# Group by the custumer unique id and get the orders each customer did and its addresses:"
   ]
  },
  {
   "cell_type": "code",
   "execution_count": 14,
   "metadata": {},
   "outputs": [],
   "source": [
    "cog = co.groupby('customer_unique_id')['address'].apply(lambda x: list(x))\n",
    "cog = cog.reset_index()"
   ]
  },
  {
   "cell_type": "code",
   "execution_count": 15,
   "metadata": {},
   "outputs": [],
   "source": [
    "# Remove duplicated address:"
   ]
  },
  {
   "cell_type": "code",
   "execution_count": 16,
   "metadata": {},
   "outputs": [],
   "source": [
    "def remdup(lst):\n",
    "    v = []\n",
    "    for el in lst:\n",
    "        if el not in v:\n",
    "            v.append(el) \n",
    "    return v"
   ]
  },
  {
   "cell_type": "code",
   "execution_count": 17,
   "metadata": {},
   "outputs": [],
   "source": [
    "cog['address'] = cog['address'].apply(lambda x: remdup(x))"
   ]
  },
  {
   "cell_type": "code",
   "execution_count": 18,
   "metadata": {},
   "outputs": [],
   "source": [
    "# Save customers json file:"
   ]
  },
  {
   "cell_type": "code",
   "execution_count": 19,
   "metadata": {},
   "outputs": [
    {
     "data": {
      "text/plain": [
       "\"\\ncustomers_d = cog.to_dict(orient='records')\\nwith open('custmers.json', 'w') as fp:\\n    json.dump(customers_d, fp)\\n\""
      ]
     },
     "execution_count": 19,
     "metadata": {},
     "output_type": "execute_result"
    }
   ],
   "source": [
    "'''\n",
    "customers_d = cog.to_dict(orient='records')\n",
    "with open('custmers.json', 'w') as fp:\n",
    "    json.dump(customers_d, fp)\n",
    "'''"
   ]
  },
  {
   "cell_type": "markdown",
   "metadata": {},
   "source": [
    "# Work on delivery info:"
   ]
  },
  {
   "cell_type": "code",
   "execution_count": 20,
   "metadata": {},
   "outputs": [],
   "source": [
    "# Create delivery info:"
   ]
  },
  {
   "cell_type": "code",
   "execution_count": 21,
   "metadata": {},
   "outputs": [],
   "source": [
    "cols = ['address', 'order_delivered_carrier_date','order_delivered_customer_date', 'order_estimated_delivery_date']\n",
    "cold = ['shipping_address', 'order_delivered_carrier_date','order_delivered_customer_date', 'order_estimated_delivery_date']\n",
    "co['order_delivery_info'] = co[cols].apply(lambda x: {k: v for k,v in list(zip(cold, list(x)))}, axis = 1)"
   ]
  },
  {
   "cell_type": "code",
   "execution_count": 22,
   "metadata": {},
   "outputs": [],
   "source": [
    "# DF order_id, delivery_info:"
   ]
  },
  {
   "cell_type": "code",
   "execution_count": 23,
   "metadata": {},
   "outputs": [],
   "source": [
    "od = co[['order_id', 'order_delivery_info']]"
   ]
  },
  {
   "cell_type": "code",
   "execution_count": 24,
   "metadata": {},
   "outputs": [
    {
     "data": {
      "text/html": [
       "<div>\n",
       "<style scoped>\n",
       "    .dataframe tbody tr th:only-of-type {\n",
       "        vertical-align: middle;\n",
       "    }\n",
       "\n",
       "    .dataframe tbody tr th {\n",
       "        vertical-align: top;\n",
       "    }\n",
       "\n",
       "    .dataframe thead th {\n",
       "        text-align: right;\n",
       "    }\n",
       "</style>\n",
       "<table border=\"1\" class=\"dataframe\">\n",
       "  <thead>\n",
       "    <tr style=\"text-align: right;\">\n",
       "      <th></th>\n",
       "      <th>order_id</th>\n",
       "      <th>order_delivery_info</th>\n",
       "    </tr>\n",
       "  </thead>\n",
       "  <tbody>\n",
       "    <tr>\n",
       "      <th>0</th>\n",
       "      <td>00e7ee1b050b8499577073aeb2a297a1</td>\n",
       "      <td>{'shipping_address': {'address_id': 'c36b63808...</td>\n",
       "    </tr>\n",
       "    <tr>\n",
       "      <th>1</th>\n",
       "      <td>29150127e6685892b6eab3eec79f59c7</td>\n",
       "      <td>{'shipping_address': {'address_id': 'b7d131545...</td>\n",
       "    </tr>\n",
       "    <tr>\n",
       "      <th>2</th>\n",
       "      <td>b2059ed67ce144a36e2aa97d2c9e9ad2</td>\n",
       "      <td>{'shipping_address': {'address_id': '1b11ad921...</td>\n",
       "    </tr>\n",
       "    <tr>\n",
       "      <th>3</th>\n",
       "      <td>951670f92359f4fe4a63112aa7306eba</td>\n",
       "      <td>{'shipping_address': {'address_id': 'ea9a05819...</td>\n",
       "    </tr>\n",
       "    <tr>\n",
       "      <th>4</th>\n",
       "      <td>6b7d50bd145f6fc7f33cebabd7e49d0f</td>\n",
       "      <td>{'shipping_address': {'address_id': 'ea65651ce...</td>\n",
       "    </tr>\n",
       "  </tbody>\n",
       "</table>\n",
       "</div>"
      ],
      "text/plain": [
       "                           order_id  \\\n",
       "0  00e7ee1b050b8499577073aeb2a297a1   \n",
       "1  29150127e6685892b6eab3eec79f59c7   \n",
       "2  b2059ed67ce144a36e2aa97d2c9e9ad2   \n",
       "3  951670f92359f4fe4a63112aa7306eba   \n",
       "4  6b7d50bd145f6fc7f33cebabd7e49d0f   \n",
       "\n",
       "                                 order_delivery_info  \n",
       "0  {'shipping_address': {'address_id': 'c36b63808...  \n",
       "1  {'shipping_address': {'address_id': 'b7d131545...  \n",
       "2  {'shipping_address': {'address_id': '1b11ad921...  \n",
       "3  {'shipping_address': {'address_id': 'ea9a05819...  \n",
       "4  {'shipping_address': {'address_id': 'ea65651ce...  "
      ]
     },
     "execution_count": 24,
     "metadata": {},
     "output_type": "execute_result"
    }
   ],
   "source": [
    "od.head()"
   ]
  },
  {
   "cell_type": "code",
   "execution_count": 25,
   "metadata": {},
   "outputs": [
    {
     "data": {
      "text/plain": [
       "{'shipping_address': {'address_id': 'c36b63808d3356977d43e03fc716e750',\n",
       "  'customer_zip_code_prefix': 14409,\n",
       "  'customer_city': 'franca',\n",
       "  'customer_state': 'SP'},\n",
       " 'order_delivered_carrier_date': '1495536477000',\n",
       " 'order_delivered_customer_date': '1495708535000',\n",
       " 'order_estimated_delivery_date': '1496620800000'}"
      ]
     },
     "execution_count": 25,
     "metadata": {},
     "output_type": "execute_result"
    }
   ],
   "source": [
    "od['order_delivery_info'][0]"
   ]
  },
  {
   "cell_type": "markdown",
   "metadata": {},
   "source": [
    "# Work on items in orders:"
   ]
  },
  {
   "cell_type": "code",
   "execution_count": 26,
   "metadata": {},
   "outputs": [],
   "source": [
    "oi = orders.merge(items, on = 'order_id', how = 'left')\n",
    "oi = oi.merge(products, on = 'product_id', how = 'left')"
   ]
  },
  {
   "cell_type": "code",
   "execution_count": 27,
   "metadata": {},
   "outputs": [],
   "source": [
    "# Transform product information in a dictionary:"
   ]
  },
  {
   "cell_type": "code",
   "execution_count": 28,
   "metadata": {},
   "outputs": [],
   "source": [
    "cols = ['product_id', 'product_category_name', 'product_name_lenght',\n",
    "       'product_description_lenght', 'product_photos_qty', 'product_weight_g',\n",
    "       'product_length_cm', 'product_height_cm', 'product_width_cm', 'price', 'freight_value', \n",
    "        'shipping_limit_date', 'seller_id']\n",
    "product_d = oi[cols].apply(lambda x: {k: v for k, v in list(zip(cols, list(x)))}, axis = 1)\n",
    "oi['order_items'] = product_d  "
   ]
  },
  {
   "cell_type": "code",
   "execution_count": 29,
   "metadata": {},
   "outputs": [],
   "source": [
    "# Get for each orders the product solds"
   ]
  },
  {
   "cell_type": "code",
   "execution_count": 30,
   "metadata": {},
   "outputs": [],
   "source": [
    "op = oi.groupby('order_id')['order_items'].apply(lambda x: list(x))\n",
    "op = op.reset_index()\n",
    "op = op[['order_id', 'order_items']]"
   ]
  },
  {
   "cell_type": "code",
   "execution_count": 31,
   "metadata": {},
   "outputs": [
    {
     "data": {
      "text/html": [
       "<div>\n",
       "<style scoped>\n",
       "    .dataframe tbody tr th:only-of-type {\n",
       "        vertical-align: middle;\n",
       "    }\n",
       "\n",
       "    .dataframe tbody tr th {\n",
       "        vertical-align: top;\n",
       "    }\n",
       "\n",
       "    .dataframe thead th {\n",
       "        text-align: right;\n",
       "    }\n",
       "</style>\n",
       "<table border=\"1\" class=\"dataframe\">\n",
       "  <thead>\n",
       "    <tr style=\"text-align: right;\">\n",
       "      <th></th>\n",
       "      <th>order_id</th>\n",
       "      <th>order_items</th>\n",
       "    </tr>\n",
       "  </thead>\n",
       "  <tbody>\n",
       "    <tr>\n",
       "      <th>0</th>\n",
       "      <td>00010242fe8c5a6d1ba2dd792cb16214</td>\n",
       "      <td>[{'product_id': '4244733e06e7ecb4970a6e2683c13...</td>\n",
       "    </tr>\n",
       "    <tr>\n",
       "      <th>1</th>\n",
       "      <td>00018f77f2f0320c557190d7a144bdd3</td>\n",
       "      <td>[{'product_id': 'e5f2d52b802189ee658865ca93d83...</td>\n",
       "    </tr>\n",
       "    <tr>\n",
       "      <th>2</th>\n",
       "      <td>000229ec398224ef6ca0657da4fc703e</td>\n",
       "      <td>[{'product_id': 'c777355d18b72b67abbeef9df44fd...</td>\n",
       "    </tr>\n",
       "    <tr>\n",
       "      <th>3</th>\n",
       "      <td>00024acbcdf0a6daa1e931b038114c75</td>\n",
       "      <td>[{'product_id': '7634da152a4610f1595efa32f1472...</td>\n",
       "    </tr>\n",
       "    <tr>\n",
       "      <th>4</th>\n",
       "      <td>00042b26cf59d7ce69dfabb4e55b4fd9</td>\n",
       "      <td>[{'product_id': 'ac6c3623068f30de03045865e4e10...</td>\n",
       "    </tr>\n",
       "  </tbody>\n",
       "</table>\n",
       "</div>"
      ],
      "text/plain": [
       "                           order_id  \\\n",
       "0  00010242fe8c5a6d1ba2dd792cb16214   \n",
       "1  00018f77f2f0320c557190d7a144bdd3   \n",
       "2  000229ec398224ef6ca0657da4fc703e   \n",
       "3  00024acbcdf0a6daa1e931b038114c75   \n",
       "4  00042b26cf59d7ce69dfabb4e55b4fd9   \n",
       "\n",
       "                                         order_items  \n",
       "0  [{'product_id': '4244733e06e7ecb4970a6e2683c13...  \n",
       "1  [{'product_id': 'e5f2d52b802189ee658865ca93d83...  \n",
       "2  [{'product_id': 'c777355d18b72b67abbeef9df44fd...  \n",
       "3  [{'product_id': '7634da152a4610f1595efa32f1472...  \n",
       "4  [{'product_id': 'ac6c3623068f30de03045865e4e10...  "
      ]
     },
     "execution_count": 31,
     "metadata": {},
     "output_type": "execute_result"
    }
   ],
   "source": [
    "op.head()"
   ]
  },
  {
   "cell_type": "markdown",
   "metadata": {},
   "source": [
    "# Work on payments in orders"
   ]
  },
  {
   "cell_type": "code",
   "execution_count": 32,
   "metadata": {},
   "outputs": [],
   "source": [
    "opy = orders.merge(payments, on = 'order_id', how = 'left')"
   ]
  },
  {
   "cell_type": "code",
   "execution_count": 33,
   "metadata": {},
   "outputs": [],
   "source": [
    "cols = ['payment_type', 'payment_installments', 'payment_value']\n",
    "payments_d = opy[cols].apply(lambda x: {k: v for k, v in list(zip(cols, list(x)))}, axis = 1)\n",
    "opy['order_payments'] = payments_d "
   ]
  },
  {
   "cell_type": "code",
   "execution_count": 34,
   "metadata": {},
   "outputs": [],
   "source": [
    "opy = opy.groupby('order_id')['order_payments'].apply(lambda x: list(x))\n",
    "opy = opy.reset_index()"
   ]
  },
  {
   "cell_type": "code",
   "execution_count": 35,
   "metadata": {},
   "outputs": [
    {
     "data": {
      "text/html": [
       "<div>\n",
       "<style scoped>\n",
       "    .dataframe tbody tr th:only-of-type {\n",
       "        vertical-align: middle;\n",
       "    }\n",
       "\n",
       "    .dataframe tbody tr th {\n",
       "        vertical-align: top;\n",
       "    }\n",
       "\n",
       "    .dataframe thead th {\n",
       "        text-align: right;\n",
       "    }\n",
       "</style>\n",
       "<table border=\"1\" class=\"dataframe\">\n",
       "  <thead>\n",
       "    <tr style=\"text-align: right;\">\n",
       "      <th></th>\n",
       "      <th>order_id</th>\n",
       "      <th>order_payments</th>\n",
       "    </tr>\n",
       "  </thead>\n",
       "  <tbody>\n",
       "    <tr>\n",
       "      <th>0</th>\n",
       "      <td>00010242fe8c5a6d1ba2dd792cb16214</td>\n",
       "      <td>[{'payment_type': 'credit_card', 'payment_inst...</td>\n",
       "    </tr>\n",
       "    <tr>\n",
       "      <th>1</th>\n",
       "      <td>00018f77f2f0320c557190d7a144bdd3</td>\n",
       "      <td>[{'payment_type': 'credit_card', 'payment_inst...</td>\n",
       "    </tr>\n",
       "    <tr>\n",
       "      <th>2</th>\n",
       "      <td>000229ec398224ef6ca0657da4fc703e</td>\n",
       "      <td>[{'payment_type': 'credit_card', 'payment_inst...</td>\n",
       "    </tr>\n",
       "    <tr>\n",
       "      <th>3</th>\n",
       "      <td>00024acbcdf0a6daa1e931b038114c75</td>\n",
       "      <td>[{'payment_type': 'credit_card', 'payment_inst...</td>\n",
       "    </tr>\n",
       "    <tr>\n",
       "      <th>4</th>\n",
       "      <td>00042b26cf59d7ce69dfabb4e55b4fd9</td>\n",
       "      <td>[{'payment_type': 'credit_card', 'payment_inst...</td>\n",
       "    </tr>\n",
       "  </tbody>\n",
       "</table>\n",
       "</div>"
      ],
      "text/plain": [
       "                           order_id  \\\n",
       "0  00010242fe8c5a6d1ba2dd792cb16214   \n",
       "1  00018f77f2f0320c557190d7a144bdd3   \n",
       "2  000229ec398224ef6ca0657da4fc703e   \n",
       "3  00024acbcdf0a6daa1e931b038114c75   \n",
       "4  00042b26cf59d7ce69dfabb4e55b4fd9   \n",
       "\n",
       "                                      order_payments  \n",
       "0  [{'payment_type': 'credit_card', 'payment_inst...  \n",
       "1  [{'payment_type': 'credit_card', 'payment_inst...  \n",
       "2  [{'payment_type': 'credit_card', 'payment_inst...  \n",
       "3  [{'payment_type': 'credit_card', 'payment_inst...  \n",
       "4  [{'payment_type': 'credit_card', 'payment_inst...  "
      ]
     },
     "execution_count": 35,
     "metadata": {},
     "output_type": "execute_result"
    }
   ],
   "source": [
    "opy.head()"
   ]
  },
  {
   "cell_type": "markdown",
   "metadata": {},
   "source": [
    "# Work on reviews in orders:"
   ]
  },
  {
   "cell_type": "code",
   "execution_count": 36,
   "metadata": {},
   "outputs": [],
   "source": [
    "orw = orders.merge(reviews, on = 'order_id', how = 'left')"
   ]
  },
  {
   "cell_type": "code",
   "execution_count": 37,
   "metadata": {},
   "outputs": [],
   "source": [
    "cols = ['review_id', 'review_score', 'review_comment_title','review_comment_message', 'review_creation_date',\n",
    "       'review_answer_timestamp']\n",
    "orw['order_reviews'] = orw[cols].apply(lambda x: {k: v for k, v in list(zip(cols, list(x)))}, axis = 1)"
   ]
  },
  {
   "cell_type": "code",
   "execution_count": 38,
   "metadata": {},
   "outputs": [],
   "source": [
    "orw = orw.groupby('order_id')['order_reviews'].apply(lambda x: list(x))\n",
    "orw = orw.reset_index()"
   ]
  },
  {
   "cell_type": "code",
   "execution_count": 39,
   "metadata": {},
   "outputs": [
    {
     "data": {
      "text/html": [
       "<div>\n",
       "<style scoped>\n",
       "    .dataframe tbody tr th:only-of-type {\n",
       "        vertical-align: middle;\n",
       "    }\n",
       "\n",
       "    .dataframe tbody tr th {\n",
       "        vertical-align: top;\n",
       "    }\n",
       "\n",
       "    .dataframe thead th {\n",
       "        text-align: right;\n",
       "    }\n",
       "</style>\n",
       "<table border=\"1\" class=\"dataframe\">\n",
       "  <thead>\n",
       "    <tr style=\"text-align: right;\">\n",
       "      <th></th>\n",
       "      <th>order_id</th>\n",
       "      <th>order_reviews</th>\n",
       "    </tr>\n",
       "  </thead>\n",
       "  <tbody>\n",
       "    <tr>\n",
       "      <th>0</th>\n",
       "      <td>00010242fe8c5a6d1ba2dd792cb16214</td>\n",
       "      <td>[{'review_id': '97ca439bc427b48bc1cd7177abe713...</td>\n",
       "    </tr>\n",
       "    <tr>\n",
       "      <th>1</th>\n",
       "      <td>00018f77f2f0320c557190d7a144bdd3</td>\n",
       "      <td>[{'review_id': '7b07bacd811c4117b742569b04ce35...</td>\n",
       "    </tr>\n",
       "    <tr>\n",
       "      <th>2</th>\n",
       "      <td>000229ec398224ef6ca0657da4fc703e</td>\n",
       "      <td>[{'review_id': '0c5b33dea94867d1ac402749e5438e...</td>\n",
       "    </tr>\n",
       "    <tr>\n",
       "      <th>3</th>\n",
       "      <td>00024acbcdf0a6daa1e931b038114c75</td>\n",
       "      <td>[{'review_id': 'f4028d019cb58564807486a6aaf338...</td>\n",
       "    </tr>\n",
       "    <tr>\n",
       "      <th>4</th>\n",
       "      <td>00042b26cf59d7ce69dfabb4e55b4fd9</td>\n",
       "      <td>[{'review_id': '940144190dcba6351888cafa43f3a3...</td>\n",
       "    </tr>\n",
       "  </tbody>\n",
       "</table>\n",
       "</div>"
      ],
      "text/plain": [
       "                           order_id  \\\n",
       "0  00010242fe8c5a6d1ba2dd792cb16214   \n",
       "1  00018f77f2f0320c557190d7a144bdd3   \n",
       "2  000229ec398224ef6ca0657da4fc703e   \n",
       "3  00024acbcdf0a6daa1e931b038114c75   \n",
       "4  00042b26cf59d7ce69dfabb4e55b4fd9   \n",
       "\n",
       "                                       order_reviews  \n",
       "0  [{'review_id': '97ca439bc427b48bc1cd7177abe713...  \n",
       "1  [{'review_id': '7b07bacd811c4117b742569b04ce35...  \n",
       "2  [{'review_id': '0c5b33dea94867d1ac402749e5438e...  \n",
       "3  [{'review_id': 'f4028d019cb58564807486a6aaf338...  \n",
       "4  [{'review_id': '940144190dcba6351888cafa43f3a3...  "
      ]
     },
     "execution_count": 39,
     "metadata": {},
     "output_type": "execute_result"
    }
   ],
   "source": [
    "orw.head()"
   ]
  },
  {
   "cell_type": "markdown",
   "metadata": {},
   "source": [
    "# All info together:"
   ]
  },
  {
   "cell_type": "code",
   "execution_count": 40,
   "metadata": {},
   "outputs": [],
   "source": [
    "ords = co[['order_id', 'customer_unique_id', 'order_status', 'order_purchase_timestamp', 'order_approved_at']]\n",
    "ords = ords.merge(od, on = 'order_id', how = 'left')\n",
    "ords = ords.merge(op, on = 'order_id', how = 'left')\n",
    "ords = ords.merge(opy, on = 'order_id', how = 'left')\n",
    "ords = ords.merge(orw, on = 'order_id', how = 'left')"
   ]
  },
  {
   "cell_type": "code",
   "execution_count": 41,
   "metadata": {},
   "outputs": [
    {
     "data": {
      "text/html": [
       "<div>\n",
       "<style scoped>\n",
       "    .dataframe tbody tr th:only-of-type {\n",
       "        vertical-align: middle;\n",
       "    }\n",
       "\n",
       "    .dataframe tbody tr th {\n",
       "        vertical-align: top;\n",
       "    }\n",
       "\n",
       "    .dataframe thead th {\n",
       "        text-align: right;\n",
       "    }\n",
       "</style>\n",
       "<table border=\"1\" class=\"dataframe\">\n",
       "  <thead>\n",
       "    <tr style=\"text-align: right;\">\n",
       "      <th></th>\n",
       "      <th>order_id</th>\n",
       "      <th>customer_unique_id</th>\n",
       "      <th>order_status</th>\n",
       "      <th>order_purchase_timestamp</th>\n",
       "      <th>order_approved_at</th>\n",
       "      <th>order_delivery_info</th>\n",
       "      <th>order_items</th>\n",
       "      <th>order_payments</th>\n",
       "      <th>order_reviews</th>\n",
       "    </tr>\n",
       "  </thead>\n",
       "  <tbody>\n",
       "    <tr>\n",
       "      <th>0</th>\n",
       "      <td>00e7ee1b050b8499577073aeb2a297a1</td>\n",
       "      <td>861eff4711a542e4b93843c6dd7febb0</td>\n",
       "      <td>delivered</td>\n",
       "      <td>1494947135000</td>\n",
       "      <td>1494948132000</td>\n",
       "      <td>{'shipping_address': {'address_id': 'c36b63808...</td>\n",
       "      <td>[{'product_id': 'a9516a079e37a9c9c36b9b78b1016...</td>\n",
       "      <td>[{'payment_type': 'credit_card', 'payment_inst...</td>\n",
       "      <td>[{'review_id': '88b8b52d46df026a9d1ad2136a59b3...</td>\n",
       "    </tr>\n",
       "    <tr>\n",
       "      <th>1</th>\n",
       "      <td>29150127e6685892b6eab3eec79f59c7</td>\n",
       "      <td>290c77bc529b7ac935b93aa66c333dc3</td>\n",
       "      <td>delivered</td>\n",
       "      <td>1515790104000</td>\n",
       "      <td>1515790712000</td>\n",
       "      <td>{'shipping_address': {'address_id': 'b7d131545...</td>\n",
       "      <td>[{'product_id': '4aa6014eceb682077f9dc4bffebc0...</td>\n",
       "      <td>[{'payment_type': 'credit_card', 'payment_inst...</td>\n",
       "      <td>[{'review_id': '02fc48a9efa3e3d0f1a8ea26507eee...</td>\n",
       "    </tr>\n",
       "    <tr>\n",
       "      <th>2</th>\n",
       "      <td>b2059ed67ce144a36e2aa97d2c9e9ad2</td>\n",
       "      <td>060e732b5b29e8181a18229c7b0b2b5e</td>\n",
       "      <td>delivered</td>\n",
       "      <td>1526746065000</td>\n",
       "      <td>1526833150000</td>\n",
       "      <td>{'shipping_address': {'address_id': '1b11ad921...</td>\n",
       "      <td>[{'product_id': 'bd07b66896d6f1494f5b86251848c...</td>\n",
       "      <td>[{'payment_type': 'credit_card', 'payment_inst...</td>\n",
       "      <td>[{'review_id': '5ad6695d76ee186dc473c42706984d...</td>\n",
       "    </tr>\n",
       "    <tr>\n",
       "      <th>3</th>\n",
       "      <td>951670f92359f4fe4a63112aa7306eba</td>\n",
       "      <td>259dac757896d24d7702b9acbbff3f3c</td>\n",
       "      <td>delivered</td>\n",
       "      <td>1520957198000</td>\n",
       "      <td>1520962159000</td>\n",
       "      <td>{'shipping_address': {'address_id': 'ea9a05819...</td>\n",
       "      <td>[{'product_id': 'a5647c44af977b148e0a3a4751a09...</td>\n",
       "      <td>[{'payment_type': 'credit_card', 'payment_inst...</td>\n",
       "      <td>[{'review_id': '059a801bb31f6aab2266e672cab87b...</td>\n",
       "    </tr>\n",
       "    <tr>\n",
       "      <th>4</th>\n",
       "      <td>6b7d50bd145f6fc7f33cebabd7e49d0f</td>\n",
       "      <td>345ecd01c38d18a9036ed96c73b8d066</td>\n",
       "      <td>delivered</td>\n",
       "      <td>1532857890000</td>\n",
       "      <td>1532859009000</td>\n",
       "      <td>{'shipping_address': {'address_id': 'ea65651ce...</td>\n",
       "      <td>[{'product_id': '9391a573abe00141c56e38d84d7d5...</td>\n",
       "      <td>[{'payment_type': 'credit_card', 'payment_inst...</td>\n",
       "      <td>[{'review_id': '8490879d58d6c5d7773f2739a03f08...</td>\n",
       "    </tr>\n",
       "  </tbody>\n",
       "</table>\n",
       "</div>"
      ],
      "text/plain": [
       "                           order_id                customer_unique_id  \\\n",
       "0  00e7ee1b050b8499577073aeb2a297a1  861eff4711a542e4b93843c6dd7febb0   \n",
       "1  29150127e6685892b6eab3eec79f59c7  290c77bc529b7ac935b93aa66c333dc3   \n",
       "2  b2059ed67ce144a36e2aa97d2c9e9ad2  060e732b5b29e8181a18229c7b0b2b5e   \n",
       "3  951670f92359f4fe4a63112aa7306eba  259dac757896d24d7702b9acbbff3f3c   \n",
       "4  6b7d50bd145f6fc7f33cebabd7e49d0f  345ecd01c38d18a9036ed96c73b8d066   \n",
       "\n",
       "  order_status order_purchase_timestamp order_approved_at  \\\n",
       "0    delivered            1494947135000     1494948132000   \n",
       "1    delivered            1515790104000     1515790712000   \n",
       "2    delivered            1526746065000     1526833150000   \n",
       "3    delivered            1520957198000     1520962159000   \n",
       "4    delivered            1532857890000     1532859009000   \n",
       "\n",
       "                                 order_delivery_info  \\\n",
       "0  {'shipping_address': {'address_id': 'c36b63808...   \n",
       "1  {'shipping_address': {'address_id': 'b7d131545...   \n",
       "2  {'shipping_address': {'address_id': '1b11ad921...   \n",
       "3  {'shipping_address': {'address_id': 'ea9a05819...   \n",
       "4  {'shipping_address': {'address_id': 'ea65651ce...   \n",
       "\n",
       "                                         order_items  \\\n",
       "0  [{'product_id': 'a9516a079e37a9c9c36b9b78b1016...   \n",
       "1  [{'product_id': '4aa6014eceb682077f9dc4bffebc0...   \n",
       "2  [{'product_id': 'bd07b66896d6f1494f5b86251848c...   \n",
       "3  [{'product_id': 'a5647c44af977b148e0a3a4751a09...   \n",
       "4  [{'product_id': '9391a573abe00141c56e38d84d7d5...   \n",
       "\n",
       "                                      order_payments  \\\n",
       "0  [{'payment_type': 'credit_card', 'payment_inst...   \n",
       "1  [{'payment_type': 'credit_card', 'payment_inst...   \n",
       "2  [{'payment_type': 'credit_card', 'payment_inst...   \n",
       "3  [{'payment_type': 'credit_card', 'payment_inst...   \n",
       "4  [{'payment_type': 'credit_card', 'payment_inst...   \n",
       "\n",
       "                                       order_reviews  \n",
       "0  [{'review_id': '88b8b52d46df026a9d1ad2136a59b3...  \n",
       "1  [{'review_id': '02fc48a9efa3e3d0f1a8ea26507eee...  \n",
       "2  [{'review_id': '5ad6695d76ee186dc473c42706984d...  \n",
       "3  [{'review_id': '059a801bb31f6aab2266e672cab87b...  \n",
       "4  [{'review_id': '8490879d58d6c5d7773f2739a03f08...  "
      ]
     },
     "execution_count": 41,
     "metadata": {},
     "output_type": "execute_result"
    }
   ],
   "source": [
    "ords.head()"
   ]
  },
  {
   "cell_type": "code",
   "execution_count": 42,
   "metadata": {},
   "outputs": [],
   "source": [
    "# Save orders json file:"
   ]
  },
  {
   "cell_type": "code",
   "execution_count": 43,
   "metadata": {},
   "outputs": [
    {
     "data": {
      "text/plain": [
       "\"\\norders_d = ords.to_dict(orient='records')\\nwith open('orders.json', 'w') as fp:\\n    json.dump(orders_d, fp)\\n\""
      ]
     },
     "execution_count": 43,
     "metadata": {},
     "output_type": "execute_result"
    }
   ],
   "source": [
    "'''\n",
    "orders_d = ords.to_dict(orient='records')\n",
    "with open('orders.json', 'w') as fp:\n",
    "    json.dump(orders_d, fp)\n",
    "'''"
   ]
  },
  {
   "cell_type": "markdown",
   "metadata": {},
   "source": [
    "# Sellers Data:"
   ]
  },
  {
   "cell_type": "code",
   "execution_count": 44,
   "metadata": {},
   "outputs": [],
   "source": [
    "# Generate address column:"
   ]
  },
  {
   "cell_type": "code",
   "execution_count": 45,
   "metadata": {},
   "outputs": [],
   "source": [
    "cols = ['seller_zip_code_prefix', 'seller_city', 'seller_state']\n",
    "sellers['seller_address'] = sellers[cols].apply(lambda x: {k: v for k, v in list(zip(cols, x))}, axis = 1)"
   ]
  },
  {
   "cell_type": "code",
   "execution_count": 46,
   "metadata": {},
   "outputs": [],
   "source": [
    "# Save json"
   ]
  },
  {
   "cell_type": "code",
   "execution_count": 47,
   "metadata": {},
   "outputs": [
    {
     "data": {
      "text/plain": [
       "\"\\nseller_d = sellers[['seller_id', 'seller_address']].to_dict(orient = 'record')\\nwith open('sellers.json', 'w') as fp:\\n    json.dump(seller_d, fp)\\n\""
      ]
     },
     "execution_count": 47,
     "metadata": {},
     "output_type": "execute_result"
    }
   ],
   "source": [
    "'''\n",
    "seller_d = sellers[['seller_id', 'seller_address']].to_dict(orient = 'record')\n",
    "with open('sellers.json', 'w') as fp:\n",
    "    json.dump(seller_d, fp)\n",
    "'''"
   ]
  },
  {
   "cell_type": "code",
   "execution_count": null,
   "metadata": {},
   "outputs": [],
   "source": [
    "orders_d = ords.iloc[1,:].to_dict(orient='records')\n",
    "json.dumps(orders_d, fp)"
   ]
  }
 ],
 "metadata": {
  "kernelspec": {
   "display_name": "Python 3",
   "language": "python",
   "name": "python3"
  },
  "language_info": {
   "codemirror_mode": {
    "name": "ipython",
    "version": 3
   },
   "file_extension": ".py",
   "mimetype": "text/x-python",
   "name": "python",
   "nbconvert_exporter": "python",
   "pygments_lexer": "ipython3",
   "version": "3.7.7"
  }
 },
 "nbformat": 4,
 "nbformat_minor": 4
}
